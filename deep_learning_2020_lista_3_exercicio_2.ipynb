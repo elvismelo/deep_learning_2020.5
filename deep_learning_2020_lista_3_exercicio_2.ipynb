{
  "nbformat": 4,
  "nbformat_minor": 0,
  "metadata": {
    "colab": {
      "name": "deep_learning_2020_lista_3_exercicio_2.ipynb",
      "provenance": [],
      "authorship_tag": "ABX9TyO9Zs+pYHpFNRnrR1mbzczp"
    },
    "kernelspec": {
      "name": "python3",
      "display_name": "Python 3"
    }
  },
  "cells": [
    {
      "cell_type": "markdown",
      "metadata": {
        "id": "rz-Cwlm84dIU",
        "colab_type": "text"
      },
      "source": [
        "# Setup"
      ]
    },
    {
      "cell_type": "code",
      "metadata": {
        "id": "Gma_4-gB4cFb",
        "colab_type": "code",
        "colab": {
          "base_uri": "https://localhost:8080/",
          "height": 71
        },
        "outputId": "a6b2a677-fad4-45bc-d6c5-42b0e6dda1cd"
      },
      "source": [
        "import numpy as np\n",
        "import pandas as pd\n",
        "import tensorflow as tf\n",
        "import matplotlib.pyplot as plt\n",
        "from sklearn.model_selection import train_test_split\n",
        "from tensorflow.keras.preprocessing.text import Tokenizer\n",
        "from tensorflow.keras.utils import to_categorical\n",
        "from tensorflow.keras.models import Sequential\n",
        "from tensorflow.keras.layers import Dense, LSTM, Embedding,Bidirectional,Dropout,BatchNormalization,GlobalMaxPool1D,Input\n",
        "from tensorflow.keras.preprocessing.sequence import pad_sequences\n",
        "import seaborn as sns; sns.set()\n",
        "import string\n",
        "import re\n",
        "from nltk.tokenize import TweetTokenizer"
      ],
      "execution_count": null,
      "outputs": [
        {
          "output_type": "stream",
          "text": [
            "/usr/local/lib/python3.6/dist-packages/statsmodels/tools/_testing.py:19: FutureWarning: pandas.util.testing is deprecated. Use the functions in the public API at pandas.testing instead.\n",
            "  import pandas.util.testing as tm\n"
          ],
          "name": "stderr"
        }
      ]
    },
    {
      "cell_type": "code",
      "metadata": {
        "id": "TD_7PzrEEHxf",
        "colab_type": "code",
        "colab": {
          "base_uri": "https://localhost:8080/",
          "height": 51
        },
        "outputId": "fe46a0ed-3325-408c-a331-515f06c89fcd"
      },
      "source": [
        "import nltk\n",
        "nltk.download('stopwords')\n",
        "from nltk.corpus import stopwords"
      ],
      "execution_count": null,
      "outputs": [
        {
          "output_type": "stream",
          "text": [
            "[nltk_data] Downloading package stopwords to /root/nltk_data...\n",
            "[nltk_data]   Package stopwords is already up-to-date!\n"
          ],
          "name": "stdout"
        }
      ]
    },
    {
      "cell_type": "code",
      "metadata": {
        "id": "tzrKDLWL_wBf",
        "colab_type": "code",
        "colab": {
          "base_uri": "https://localhost:8080/",
          "height": 34
        },
        "outputId": "835f10a3-c03e-4eca-cf74-84c1739f84c2"
      },
      "source": [
        "from google.colab import drive\n",
        "drive.mount('/content/drive')"
      ],
      "execution_count": null,
      "outputs": [
        {
          "output_type": "stream",
          "text": [
            "Drive already mounted at /content/drive; to attempt to forcibly remount, call drive.mount(\"/content/drive\", force_remount=True).\n"
          ],
          "name": "stdout"
        }
      ]
    },
    {
      "cell_type": "markdown",
      "metadata": {
        "id": "qwcYW5qz4fXb",
        "colab_type": "text"
      },
      "source": [
        "# Importação do Dataset"
      ]
    },
    {
      "cell_type": "code",
      "metadata": {
        "id": "UTzfrAtHCByh",
        "colab_type": "code",
        "colab": {}
      },
      "source": [
        "train_df = pd.read_csv('/content/drive/My Drive/Deep Learning 2020/deep_learning_2020_lista_3/train.csv')\n",
        "test_df = pd.read_csv('/content/drive/My Drive/Deep Learning 2020/deep_learning_2020_lista_3/test.csv')"
      ],
      "execution_count": null,
      "outputs": []
    },
    {
      "cell_type": "markdown",
      "metadata": {
        "id": "q6zvW53JHI0w",
        "colab_type": "text"
      },
      "source": [
        "# Preprocessamento"
      ]
    },
    {
      "cell_type": "code",
      "metadata": {
        "id": "TiyPCBWOCDbB",
        "colab_type": "code",
        "colab": {}
      },
      "source": [
        "train_df.head()"
      ],
      "execution_count": null,
      "outputs": []
    },
    {
      "cell_type": "code",
      "metadata": {
        "id": "lCXK3lWuCLYk",
        "colab_type": "code",
        "colab": {
          "base_uri": "https://localhost:8080/",
          "height": 119
        },
        "outputId": "04b6133f-be1f-41d0-9dbf-3db0e98b1c1c"
      },
      "source": [
        "(train_df.isnull()==True).sum()"
      ],
      "execution_count": null,
      "outputs": [
        {
          "output_type": "execute_result",
          "data": {
            "text/plain": [
              "id             0\n",
              "keyword       61\n",
              "location    2533\n",
              "text           0\n",
              "target         0\n",
              "dtype: int64"
            ]
          },
          "metadata": {
            "tags": []
          },
          "execution_count": 6
        }
      ]
    },
    {
      "cell_type": "code",
      "metadata": {
        "id": "eQLOEmc7CQ6N",
        "colab_type": "code",
        "colab": {
          "base_uri": "https://localhost:8080/",
          "height": 68
        },
        "outputId": "1f5ee75c-aac7-4540-f38b-fee3b7e07f8c"
      },
      "source": [
        "train_df['target'].value_counts()"
      ],
      "execution_count": null,
      "outputs": [
        {
          "output_type": "execute_result",
          "data": {
            "text/plain": [
              "0    4342\n",
              "1    3271\n",
              "Name: target, dtype: int64"
            ]
          },
          "metadata": {
            "tags": []
          },
          "execution_count": 7
        }
      ]
    },
    {
      "cell_type": "code",
      "metadata": {
        "id": "OUhK4FbpCWOy",
        "colab_type": "code",
        "colab": {}
      },
      "source": [
        "train_df[train_df['keyword'].isnull()==False]"
      ],
      "execution_count": null,
      "outputs": []
    },
    {
      "cell_type": "code",
      "metadata": {
        "id": "FssxJMRxUtWT",
        "colab_type": "code",
        "colab": {}
      },
      "source": [
        "ids_with_target_error = [328,443,513,2619,3640,3900,4342,5781,6552,6554,6570,6701,6702,6729,6861,7226]\n",
        "train_df[train_df['id'].isin(ids_with_target_error)]"
      ],
      "execution_count": null,
      "outputs": []
    },
    {
      "cell_type": "code",
      "metadata": {
        "id": "TkaYMyrBUYFv",
        "colab_type": "code",
        "colab": {}
      },
      "source": [
        "train_df.loc[train_df['id'].isin(ids_with_target_error),'target'] = 0\n",
        "train_df[train_df['id'].isin(ids_with_target_error)]"
      ],
      "execution_count": null,
      "outputs": []
    },
    {
      "cell_type": "code",
      "metadata": {
        "id": "p7oqt9iMUePH",
        "colab_type": "code",
        "colab": {}
      },
      "source": [
        "train_df.loc[train_df['keyword'].notnull(), 'text'] = train_df['keyword'] + ' ' + train_df['text']"
      ],
      "execution_count": null,
      "outputs": []
    },
    {
      "cell_type": "code",
      "metadata": {
        "id": "iyEM1ngQDrV7",
        "colab_type": "code",
        "colab": {}
      },
      "source": [
        "def convert_abbrev_in_text(text):\n",
        "    t = []\n",
        "    words = text.split()\n",
        "    t = [abbreviations[w.lower()] if w.lower() in abbreviations.keys() else w for w in words]\n",
        "    return ' '.join(t)  "
      ],
      "execution_count": null,
      "outputs": []
    },
    {
      "cell_type": "code",
      "metadata": {
        "id": "RQCIDPoNDrK4",
        "colab_type": "code",
        "colab": {}
      },
      "source": [
        "train_df['text'] = train_df['text'].apply(clean_data)\n",
        "train_df['text'] = train_df['text'].apply(convert_abbrev_in_text)"
      ],
      "execution_count": null,
      "outputs": []
    },
    {
      "cell_type": "code",
      "metadata": {
        "id": "rohYSvGaE5h6",
        "colab_type": "code",
        "colab": {}
      },
      "source": [
        "tokenizer = Tokenizer()\n",
        "tokenizer.fit_on_texts(train_df['text'])\n",
        "\n",
        "sequences = tokenizer.texts_to_sequences(train_df['text'])\n",
        "pad = pad_sequences(sequences, maxlen=120, padding='post', truncating='post')"
      ],
      "execution_count": null,
      "outputs": []
    },
    {
      "cell_type": "markdown",
      "metadata": {
        "id": "amb5mgpjHUcv",
        "colab_type": "text"
      },
      "source": [
        "# Treinamento da LSTM"
      ]
    },
    {
      "cell_type": "code",
      "metadata": {
        "id": "yRR6WOw3E_Ib",
        "colab_type": "code",
        "colab": {}
      },
      "source": [
        "partition = int(len(train_df)*0.8);\n",
        "y_train = train_df['target'].iloc[0:partition]\n",
        "y_test = train_df['target'].iloc[partition:len(train_df)]\n",
        "X_train = pad[0:partition]\n",
        "X_test = pad[partition:len(train_df)]\n",
        "\n",
        "vocab_size=len(tokenizer.word_index)+1"
      ],
      "execution_count": null,
      "outputs": []
    },
    {
      "cell_type": "code",
      "metadata": {
        "id": "nyncijUyFjkW",
        "colab_type": "code",
        "colab": {
          "base_uri": "https://localhost:8080/",
          "height": 493
        },
        "outputId": "7040affa-4788-4951-d3f2-6fa477617171"
      },
      "source": [
        "model = Sequential()\n",
        "model.add(Embedding(vocab_size, 32, input_length=pad.shape[1]))\n",
        "model.add(Bidirectional(LSTM(32,return_sequences=True)))\n",
        "model.add(Dropout(0.7))\n",
        "\n",
        "model.add(Bidirectional(LSTM(32,return_sequences=True)))\n",
        "model.add(Dropout(0.7))\n",
        "\n",
        "model.add(Bidirectional(LSTM(32)))\n",
        "model.add(Dropout(0.7))\n",
        "\n",
        "model.add(Dense(32, activation='relu'))\n",
        "model.add(Dropout(0.2))\n",
        "model.add(Dense(1, activation='sigmoid'))\n",
        "\n",
        "model.compile(loss = 'binary_crossentropy', optimizer = 'adam', metrics = ['accuracy'])\n",
        "\n",
        "model.summary()"
      ],
      "execution_count": null,
      "outputs": [
        {
          "output_type": "stream",
          "text": [
            "Model: \"sequential_1\"\n",
            "_________________________________________________________________\n",
            "Layer (type)                 Output Shape              Param #   \n",
            "=================================================================\n",
            "embedding_1 (Embedding)      (None, 120, 32)           539616    \n",
            "_________________________________________________________________\n",
            "bidirectional_3 (Bidirection (None, 120, 64)           16640     \n",
            "_________________________________________________________________\n",
            "dropout_4 (Dropout)          (None, 120, 64)           0         \n",
            "_________________________________________________________________\n",
            "bidirectional_4 (Bidirection (None, 120, 64)           24832     \n",
            "_________________________________________________________________\n",
            "dropout_5 (Dropout)          (None, 120, 64)           0         \n",
            "_________________________________________________________________\n",
            "bidirectional_5 (Bidirection (None, 64)                24832     \n",
            "_________________________________________________________________\n",
            "dropout_6 (Dropout)          (None, 64)                0         \n",
            "_________________________________________________________________\n",
            "dense_2 (Dense)              (None, 32)                2080      \n",
            "_________________________________________________________________\n",
            "dropout_7 (Dropout)          (None, 32)                0         \n",
            "_________________________________________________________________\n",
            "dense_3 (Dense)              (None, 1)                 33        \n",
            "=================================================================\n",
            "Total params: 608,033\n",
            "Trainable params: 608,033\n",
            "Non-trainable params: 0\n",
            "_________________________________________________________________\n"
          ],
          "name": "stdout"
        }
      ]
    },
    {
      "cell_type": "code",
      "metadata": {
        "id": "XfiQ89AtH5bg",
        "colab_type": "code",
        "colab": {
          "base_uri": "https://localhost:8080/",
          "height": 357
        },
        "outputId": "078c414b-ae78-4fb7-9a39-ef0cfb1ecb27"
      },
      "source": [
        "history = model.fit(X_train, y_train, \n",
        "                    epochs=10, \n",
        "                    validation_data=(X_test, y_test)\n",
        "                    )"
      ],
      "execution_count": null,
      "outputs": [
        {
          "output_type": "stream",
          "text": [
            "Epoch 1/10\n",
            "191/191 [==============================] - 48s 251ms/step - loss: 0.6354 - accuracy: 0.6350 - val_loss: 0.5052 - val_accuracy: 0.7610\n",
            "Epoch 2/10\n",
            "191/191 [==============================] - 46s 241ms/step - loss: 0.3874 - accuracy: 0.8504 - val_loss: 0.4868 - val_accuracy: 0.7754\n",
            "Epoch 3/10\n",
            "191/191 [==============================] - 45s 238ms/step - loss: 0.2329 - accuracy: 0.9223 - val_loss: 0.5421 - val_accuracy: 0.7689\n",
            "Epoch 4/10\n",
            "191/191 [==============================] - 45s 237ms/step - loss: 0.1625 - accuracy: 0.9522 - val_loss: 0.6949 - val_accuracy: 0.7466\n",
            "Epoch 5/10\n",
            "191/191 [==============================] - 46s 240ms/step - loss: 0.1259 - accuracy: 0.9626 - val_loss: 0.8336 - val_accuracy: 0.7223\n",
            "Epoch 6/10\n",
            "191/191 [==============================] - 46s 240ms/step - loss: 0.0993 - accuracy: 0.9700 - val_loss: 0.8145 - val_accuracy: 0.7058\n",
            "Epoch 7/10\n",
            "191/191 [==============================] - 46s 241ms/step - loss: 0.0754 - accuracy: 0.9739 - val_loss: 1.4415 - val_accuracy: 0.6967\n",
            "Epoch 8/10\n",
            "191/191 [==============================] - 46s 242ms/step - loss: 0.0563 - accuracy: 0.9764 - val_loss: 1.0498 - val_accuracy: 0.7367\n",
            "Epoch 9/10\n",
            "191/191 [==============================] - 46s 242ms/step - loss: 0.0525 - accuracy: 0.9775 - val_loss: 1.5101 - val_accuracy: 0.7137\n",
            "Epoch 10/10\n",
            "191/191 [==============================] - 46s 241ms/step - loss: 0.0474 - accuracy: 0.9795 - val_loss: 1.5572 - val_accuracy: 0.7177\n"
          ],
          "name": "stdout"
        }
      ]
    },
    {
      "cell_type": "markdown",
      "metadata": {
        "id": "hvQ25NyoHgf3",
        "colab_type": "text"
      },
      "source": [
        "# Avaliação da performance da LSTM"
      ]
    },
    {
      "cell_type": "code",
      "metadata": {
        "id": "IhzYYEXAGgYE",
        "colab_type": "code",
        "colab": {
          "base_uri": "https://localhost:8080/",
          "height": 286
        },
        "outputId": "08f37276-0b59-4295-eaba-047c544ef227"
      },
      "source": [
        "plt.plot(history.history['accuracy'], label='accuracy')\n",
        "plt.xlabel('Épocas')\n",
        "plt.ylabel('Acurácia')\n",
        "plt.legend()\n",
        "plt.show()"
      ],
      "execution_count": null,
      "outputs": [
        {
          "output_type": "display_data",
          "data": {
            "image/png": "[encoded data removed]",
            "text/plain": [
              "<Figure size 432x288 with 1 Axes>"
            ]
          },
          "metadata": {
            "tags": [],
            "needs_background": "light"
          }
        }
      ]
    },
    {
      "cell_type": "code",
      "metadata": {
        "id": "ktu5KIfrORFc",
        "colab_type": "code",
        "colab": {}
      },
      "source": [
        "test_val_df = train_df.sample(frac=0.25)"
      ],
      "execution_count": null,
      "outputs": []
    },
    {
      "cell_type": "code",
      "metadata": {
        "id": "sTHbYZKTLe93",
        "colab_type": "code",
        "colab": {}
      },
      "source": [
        "test_val_df.loc[test_val_df['keyword'].notnull(), 'text'] = test_val_df['keyword'] + ' ' + test_val_df['text']\n",
        "test_val_df['text'] = test_val_df['text'].apply(clean_data)\n",
        "\n",
        "t_sequences = tokenizer.texts_to_sequences(test_val_df['text'])\n",
        "t_pad = pad_sequences(t_sequences, maxlen=120, padding='post', truncating='post')"
      ],
      "execution_count": null,
      "outputs": []
    },
    {
      "cell_type": "code",
      "metadata": {
        "id": "ZhN3MV46F4gt",
        "colab_type": "code",
        "colab": {}
      },
      "source": [
        "predictions = model.predict(t_pad)"
      ],
      "execution_count": null,
      "outputs": []
    },
    {
      "cell_type": "code",
      "metadata": {
        "id": "oA7Cep_CiSt0",
        "colab_type": "code",
        "colab": {
          "base_uri": "https://localhost:8080/",
          "height": 136
        },
        "outputId": "b39b109d-e073-4f84-f5f0-ebb64aa85e3c"
      },
      "source": [
        "predictions"
      ],
      "execution_count": null,
      "outputs": [
        {
          "output_type": "execute_result",
          "data": {
            "text/plain": [
              "array([[7.6399738e-05],\n",
              "       [9.9999481e-01],\n",
              "       [2.1456415e-05],\n",
              "       ...,\n",
              "       [2.2218097e-05],\n",
              "       [2.2082353e-05],\n",
              "       [9.9999535e-01]], dtype=float32)"
            ]
          },
          "metadata": {
            "tags": []
          },
          "execution_count": 46
        }
      ]
    },
    {
      "cell_type": "code",
      "metadata": {
        "id": "FfBBOdaRGYcO",
        "colab_type": "code",
        "colab": {}
      },
      "source": [
        "predictions_ = []\n",
        "for i in range(len(predictions)):\n",
        "  predictions_.append(np.round(predictions[i]))"
      ],
      "execution_count": null,
      "outputs": []
    },
    {
      "cell_type": "code",
      "metadata": {
        "id": "LBrLWuMmBFWx",
        "colab_type": "code",
        "colab": {
          "base_uri": "https://localhost:8080/",
          "height": 68
        },
        "outputId": "a455c304-9f4e-4265-d7d6-3949a14e6a59"
      },
      "source": [
        "mat = tf.math.confusion_matrix(test_val_df['target'], predictions_)\n",
        "mat"
      ],
      "execution_count": null,
      "outputs": [
        {
          "output_type": "execute_result",
          "data": {
            "text/plain": [
              "<tf.Tensor: shape=(2, 2), dtype=int32, numpy=\n",
              "array([[995,  88],\n",
              "       [ 54, 766]], dtype=int32)>"
            ]
          },
          "metadata": {
            "tags": []
          },
          "execution_count": 49
        }
      ]
    },
    {
      "cell_type": "code",
      "metadata": {
        "id": "Zdj9m5diBF1s",
        "colab_type": "code",
        "colab": {
          "base_uri": "https://localhost:8080/",
          "height": 591
        },
        "outputId": "617e281b-dcd7-406b-f915-56edc67bdb22"
      },
      "source": [
        "plt.figure(figsize=(10,10))\n",
        "ax= plt.subplot(111)\n",
        "ax= sns.heatmap(mat, square=True, annot=True, fmt='g', cbar=True, ax=ax)\n",
        "plt.xlabel('true label')\n",
        "plt.ylabel('predicted label')"
      ],
      "execution_count": null,
      "outputs": [
        {
          "output_type": "execute_result",
          "data": {
            "text/plain": [
              "Text(66.5, 0.5, 'predicted label')"
            ]
          },
          "metadata": {
            "tags": []
          },
          "execution_count": 50
        },
        {
          "output_type": "display_data",
          "data": {
            "image/png": "[encoded data removed]",
            "text/plain": [
              "<Figure size 720x720 with 2 Axes>"
            ]
          },
          "metadata": {
            "tags": [],
            "needs_background": "light"
          }
        }
      ]
    },
    {
      "cell_type": "markdown",
      "metadata": {
        "id": "kVWEdjh0LbBg",
        "colab_type": "text"
      },
      "source": [
        "# Fazendo previsões de novos dados"
      ]
    },
    {
      "cell_type": "code",
      "metadata": {
        "id": "liMlH3BbFuYV",
        "colab_type": "code",
        "colab": {}
      },
      "source": [
        "test_df.loc[test_df['keyword'].notnull(), 'text'] = test_df['keyword'] + ' ' + test_df['text']\n",
        "test_df['text'] = test_df['text'].apply(clean_data)\n",
        "\n",
        "t_sequences = tokenizer.texts_to_sequences(test_df['text'])\n",
        "t_pad = pad_sequences(t_sequences, maxlen=120, padding='post', truncating='post')"
      ],
      "execution_count": null,
      "outputs": []
    },
    {
      "cell_type": "code",
      "metadata": {
        "id": "V0kdKhGyI3rm",
        "colab_type": "code",
        "colab": {}
      },
      "source": [
        "predictions = model.predict(t_pad)"
      ],
      "execution_count": null,
      "outputs": []
    },
    {
      "cell_type": "code",
      "metadata": {
        "id": "OgtvN1nHB1T7",
        "colab_type": "code",
        "colab": {}
      },
      "source": [
        "predictions_ = []\n",
        "for i in range(len(predictions)):\n",
        "  predictions_.append(np.round(predictions[i]))"
      ],
      "execution_count": null,
      "outputs": []
    },
    {
      "cell_type": "code",
      "metadata": {
        "id": "Kdfjyv5aJR7O",
        "colab_type": "code",
        "colab": {}
      },
      "source": [
        "test_df['predictions'] = predictions_"
      ],
      "execution_count": null,
      "outputs": []
    }
  ]
}
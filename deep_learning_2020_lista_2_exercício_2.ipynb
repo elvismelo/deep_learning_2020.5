{
  "nbformat": 4,
  "nbformat_minor": 0,
  "metadata": {
    "colab": {
      "name": "deep_learning_2020_lista_2_exercício_2.ipynb",
      "provenance": [],
      "collapsed_sections": []
    },
    "kernelspec": {
      "name": "python3",
      "display_name": "Python 3"
    },
    "accelerator": "GPU"
  },
  "cells": [
    {
      "cell_type": "markdown",
      "metadata": {
        "id": "tirh1gD0JpPg",
        "colab_type": "text"
      },
      "source": [
        "# Preparando os dados"
      ]
    },
    {
      "cell_type": "code",
      "metadata": {
        "id": "UNwVKSuJK4XA",
        "colab_type": "code",
        "colab": {}
      },
      "source": [
        "from matplotlib import pyplot\n",
        "import matplotlib.pyplot as plt\n",
        "from keras.datasets import cifar10\n",
        "import numpy as np\n",
        "import tensorflow as tf\n",
        "from tensorflow import keras\n",
        "from keras.models import Sequential\n",
        "from keras.layers import Conv2D\n",
        "from keras.layers import MaxPooling2D\n",
        "from keras.layers import Dense\n",
        "from keras.layers import Flatten\n",
        "from keras.optimizers import SGD\n",
        "import seaborn as sns"
      ],
      "execution_count": null,
      "outputs": []
    },
    {
      "cell_type": "code",
      "metadata": {
        "id": "v85u2KuiJfGF",
        "colab_type": "code",
        "colab": {
          "base_uri": "https://localhost:8080/",
          "height": 51
        },
        "outputId": "ced9e3cc-5534-475b-9c43-557f963119f7"
      },
      "source": [
        "(X_train, y_train), (X_test, y_test) = cifar10.load_data()\n",
        "\n",
        "print('Train: X=%s, y=%s' % (X_train.shape, y_train.shape))\n",
        "print('Test: X=%s, y=%s' % (X_test.shape, y_test.shape))"
      ],
      "execution_count": null,
      "outputs": [
        {
          "output_type": "stream",
          "text": [
            "Train: X=(50000, 32, 32, 3), y=(50000, 1)\n",
            "Test: X=(10000, 32, 32, 3), y=(10000, 1)\n"
          ],
          "name": "stdout"
        }
      ]
    },
    {
      "cell_type": "code",
      "metadata": {
        "id": "n8_LilxIJ25z",
        "colab_type": "code",
        "colab": {}
      },
      "source": [
        "X_train_norm = X_train.astype('float32')\n",
        "X_test_norm = X_test.astype('float32')\n",
        "\n",
        "X_train_norm = X_train_norm / 255.0\n",
        "X_test_norm = X_test_norm / 255.0"
      ],
      "execution_count": null,
      "outputs": []
    },
    {
      "cell_type": "code",
      "metadata": {
        "id": "sCl4oDVqJ23r",
        "colab_type": "code",
        "colab": {
          "base_uri": "https://localhost:8080/",
          "height": 850
        },
        "outputId": "1144f749-2906-4189-f97d-b1f9bb253dcf"
      },
      "source": [
        "X_train_norm[1]"
      ],
      "execution_count": null,
      "outputs": [
        {
          "output_type": "execute_result",
          "data": {
            "text/plain": [
              "array([[[0.6039216 , 0.69411767, 0.73333335],\n",
              "        [0.49411765, 0.5372549 , 0.53333336],\n",
              "        [0.4117647 , 0.40784314, 0.37254903],\n",
              "        ...,\n",
              "        [0.35686275, 0.37254903, 0.2784314 ],\n",
              "        [0.34117648, 0.3529412 , 0.2784314 ],\n",
              "        [0.30980393, 0.31764707, 0.27450982]],\n",
              "\n",
              "       [[0.54901963, 0.627451  , 0.6627451 ],\n",
              "        [0.5686275 , 0.6       , 0.6039216 ],\n",
              "        [0.49019608, 0.49019608, 0.4627451 ],\n",
              "        ...,\n",
              "        [0.3764706 , 0.3882353 , 0.30588236],\n",
              "        [0.3019608 , 0.3137255 , 0.24313726],\n",
              "        [0.2784314 , 0.28627452, 0.23921569]],\n",
              "\n",
              "       [[0.54901963, 0.60784316, 0.6431373 ],\n",
              "        [0.54509807, 0.57254905, 0.58431375],\n",
              "        [0.4509804 , 0.4509804 , 0.4392157 ],\n",
              "        ...,\n",
              "        [0.30980393, 0.32156864, 0.2509804 ],\n",
              "        [0.26666668, 0.27450982, 0.21568628],\n",
              "        [0.2627451 , 0.27058825, 0.21568628]],\n",
              "\n",
              "       ...,\n",
              "\n",
              "       [[0.6862745 , 0.654902  , 0.6509804 ],\n",
              "        [0.6117647 , 0.6039216 , 0.627451  ],\n",
              "        [0.6039216 , 0.627451  , 0.6666667 ],\n",
              "        ...,\n",
              "        [0.16470589, 0.13333334, 0.14117648],\n",
              "        [0.23921569, 0.20784314, 0.22352941],\n",
              "        [0.3647059 , 0.3254902 , 0.35686275]],\n",
              "\n",
              "       [[0.64705884, 0.6039216 , 0.5019608 ],\n",
              "        [0.6117647 , 0.59607846, 0.50980395],\n",
              "        [0.62352943, 0.6313726 , 0.5568628 ],\n",
              "        ...,\n",
              "        [0.40392157, 0.3647059 , 0.3764706 ],\n",
              "        [0.48235294, 0.44705883, 0.47058824],\n",
              "        [0.5137255 , 0.4745098 , 0.5137255 ]],\n",
              "\n",
              "       [[0.6392157 , 0.5803922 , 0.47058824],\n",
              "        [0.61960787, 0.5803922 , 0.47843137],\n",
              "        [0.6392157 , 0.6117647 , 0.52156866],\n",
              "        ...,\n",
              "        [0.56078434, 0.52156866, 0.54509807],\n",
              "        [0.56078434, 0.5254902 , 0.5568628 ],\n",
              "        [0.56078434, 0.52156866, 0.5647059 ]]], dtype=float32)"
            ]
          },
          "metadata": {
            "tags": []
          },
          "execution_count": 12
        }
      ]
    },
    {
      "cell_type": "markdown",
      "metadata": {
        "id": "qh6E7dwsJwfH",
        "colab_type": "text"
      },
      "source": [
        "# Treinamento e teste da CNN"
      ]
    },
    {
      "cell_type": "code",
      "metadata": {
        "id": "9ylvPL1_J1Hn",
        "colab_type": "code",
        "colab": {}
      },
      "source": [
        "model = keras.Sequential()\n",
        "\n",
        "# 1\n",
        "model.add(keras.layers.Conv2D(32, (3, 3), activation='relu', input_shape=(32, 32, 3)))\n",
        "model.add(keras.layers.Conv2D(32, (3, 3), activation='relu'))\n",
        "model.add(keras.layers.MaxPooling2D((2, 2)))\n",
        "\n",
        "# 2\n",
        "model.add(keras.layers.Conv2D(64, (3, 3), activation='relu'))\n",
        "model.add(keras.layers.Conv2D(64, (3, 3), activation='relu'))\n",
        "model.add(keras.layers.MaxPooling2D((2, 2)))\n",
        "\n",
        "# Preencher com zeros\n",
        "model.add(keras.layers.Flatten())\n",
        "\n",
        "# Deep MLP\n",
        "model.add(keras.layers.Dense(128, activation=tf.nn.relu))\n",
        "model.add(keras.layers.Dropout(0.2))\n",
        "model.add(keras.layers.Dense(10, activation=tf.nn.softmax))"
      ],
      "execution_count": null,
      "outputs": []
    },
    {
      "cell_type": "code",
      "metadata": {
        "id": "nfrubPI9bvzK",
        "colab_type": "code",
        "colab": {
          "base_uri": "https://localhost:8080/",
          "height": 493
        },
        "outputId": "8fc4e211-7f83-4d6d-f397-0d035daa9e1c"
      },
      "source": [
        "model.summary()"
      ],
      "execution_count": null,
      "outputs": [
        {
          "output_type": "stream",
          "text": [
            "Model: \"sequential_1\"\n",
            "_________________________________________________________________\n",
            "Layer (type)                 Output Shape              Param #   \n",
            "=================================================================\n",
            "conv2d_4 (Conv2D)            (None, 30, 30, 32)        896       \n",
            "_________________________________________________________________\n",
            "conv2d_5 (Conv2D)            (None, 28, 28, 32)        9248      \n",
            "_________________________________________________________________\n",
            "max_pooling2d_2 (MaxPooling2 (None, 14, 14, 32)        0         \n",
            "_________________________________________________________________\n",
            "conv2d_6 (Conv2D)            (None, 12, 12, 64)        18496     \n",
            "_________________________________________________________________\n",
            "conv2d_7 (Conv2D)            (None, 10, 10, 64)        36928     \n",
            "_________________________________________________________________\n",
            "max_pooling2d_3 (MaxPooling2 (None, 5, 5, 64)          0         \n",
            "_________________________________________________________________\n",
            "flatten_1 (Flatten)          (None, 1600)              0         \n",
            "_________________________________________________________________\n",
            "dense_2 (Dense)              (None, 128)               204928    \n",
            "_________________________________________________________________\n",
            "dropout_1 (Dropout)          (None, 128)               0         \n",
            "_________________________________________________________________\n",
            "dense_3 (Dense)              (None, 10)                1290      \n",
            "=================================================================\n",
            "Total params: 271,786\n",
            "Trainable params: 271,786\n",
            "Non-trainable params: 0\n",
            "_________________________________________________________________\n"
          ],
          "name": "stdout"
        }
      ]
    },
    {
      "cell_type": "code",
      "metadata": {
        "id": "lS7ZCS6oQfiF",
        "colab_type": "code",
        "colab": {}
      },
      "source": [
        "model.compile(optimizer= keras.optimizers.SGD(lr=0.001, momentum=0.9), # Stochastic gradient descent\n",
        "              loss='sparse_categorical_crossentropy',\n",
        "              metrics=['accuracy'])"
      ],
      "execution_count": null,
      "outputs": []
    },
    {
      "cell_type": "code",
      "metadata": {
        "id": "VkLEGDAgQffd",
        "colab_type": "code",
        "colab": {
          "base_uri": "https://localhost:8080/",
          "height": 1000
        },
        "outputId": "f7ed4b8a-3825-46e6-a974-2fb45c9fec2b"
      },
      "source": [
        "hist = model.fit(X_train_norm, y_train, epochs=600, \n",
        "                 validation_data=(X_test_norm, y_test), \n",
        "                 callbacks=tf.keras.callbacks.EarlyStopping(monitor='val_loss', patience=10))"
      ],
      "execution_count": null,
      "outputs": [
        {
          "output_type": "stream",
          "text": [
            "Epoch 1/600\n",
            "1563/1563 [==============================] - 13s 8ms/step - loss: 2.0207 - accuracy: 0.2585 - val_loss: 1.7104 - val_accuracy: 0.3953\n",
            "Epoch 2/600\n",
            "1563/1563 [==============================] - 12s 8ms/step - loss: 1.6407 - accuracy: 0.4060 - val_loss: 1.4800 - val_accuracy: 0.4612\n",
            "Epoch 3/600\n",
            "1563/1563 [==============================] - 12s 8ms/step - loss: 1.4529 - accuracy: 0.4746 - val_loss: 1.3465 - val_accuracy: 0.5220\n",
            "Epoch 4/600\n",
            "1563/1563 [==============================] - 12s 8ms/step - loss: 1.3283 - accuracy: 0.5225 - val_loss: 1.2377 - val_accuracy: 0.5639\n",
            "Epoch 5/600\n",
            "1563/1563 [==============================] - 12s 8ms/step - loss: 1.2295 - accuracy: 0.5631 - val_loss: 1.1533 - val_accuracy: 0.5893\n",
            "Epoch 6/600\n",
            "1563/1563 [==============================] - 12s 8ms/step - loss: 1.1499 - accuracy: 0.5927 - val_loss: 1.1610 - val_accuracy: 0.5962\n",
            "Epoch 7/600\n",
            "1563/1563 [==============================] - 12s 8ms/step - loss: 1.0814 - accuracy: 0.6205 - val_loss: 1.0604 - val_accuracy: 0.6228\n",
            "Epoch 8/600\n",
            "1563/1563 [==============================] - 12s 8ms/step - loss: 1.0254 - accuracy: 0.6391 - val_loss: 1.0596 - val_accuracy: 0.6368\n",
            "Epoch 9/600\n",
            "1563/1563 [==============================] - 12s 8ms/step - loss: 0.9752 - accuracy: 0.6571 - val_loss: 0.9875 - val_accuracy: 0.6562\n",
            "Epoch 10/600\n",
            "1563/1563 [==============================] - 12s 8ms/step - loss: 0.9260 - accuracy: 0.6753 - val_loss: 0.9659 - val_accuracy: 0.6591\n",
            "Epoch 11/600\n",
            "1563/1563 [==============================] - 12s 8ms/step - loss: 0.8813 - accuracy: 0.6907 - val_loss: 0.8991 - val_accuracy: 0.6857\n",
            "Epoch 12/600\n",
            "1563/1563 [==============================] - 12s 8ms/step - loss: 0.8379 - accuracy: 0.7046 - val_loss: 0.8885 - val_accuracy: 0.6920\n",
            "Epoch 13/600\n",
            "1563/1563 [==============================] - 12s 8ms/step - loss: 0.8019 - accuracy: 0.7217 - val_loss: 0.8814 - val_accuracy: 0.6945\n",
            "Epoch 14/600\n",
            "1563/1563 [==============================] - 12s 8ms/step - loss: 0.7712 - accuracy: 0.7302 - val_loss: 0.8743 - val_accuracy: 0.6986\n",
            "Epoch 15/600\n",
            "1563/1563 [==============================] - 12s 8ms/step - loss: 0.7314 - accuracy: 0.7455 - val_loss: 0.8425 - val_accuracy: 0.7116\n",
            "Epoch 16/600\n",
            "1563/1563 [==============================] - 12s 8ms/step - loss: 0.7007 - accuracy: 0.7548 - val_loss: 0.8444 - val_accuracy: 0.7143\n",
            "Epoch 17/600\n",
            "1563/1563 [==============================] - 12s 8ms/step - loss: 0.6680 - accuracy: 0.7658 - val_loss: 0.8526 - val_accuracy: 0.7126\n",
            "Epoch 18/600\n",
            "1563/1563 [==============================] - 12s 8ms/step - loss: 0.6390 - accuracy: 0.7746 - val_loss: 0.8387 - val_accuracy: 0.7156\n",
            "Epoch 19/600\n",
            "1563/1563 [==============================] - 12s 8ms/step - loss: 0.6048 - accuracy: 0.7877 - val_loss: 0.8268 - val_accuracy: 0.7177\n",
            "Epoch 20/600\n",
            "1563/1563 [==============================] - 12s 8ms/step - loss: 0.5852 - accuracy: 0.7935 - val_loss: 0.8284 - val_accuracy: 0.7215\n",
            "Epoch 21/600\n",
            "1563/1563 [==============================] - 12s 8ms/step - loss: 0.5562 - accuracy: 0.8048 - val_loss: 0.8502 - val_accuracy: 0.7183\n",
            "Epoch 22/600\n",
            "1563/1563 [==============================] - 12s 8ms/step - loss: 0.5336 - accuracy: 0.8106 - val_loss: 0.8260 - val_accuracy: 0.7237\n",
            "Epoch 23/600\n",
            "1563/1563 [==============================] - 12s 8ms/step - loss: 0.5056 - accuracy: 0.8191 - val_loss: 0.9074 - val_accuracy: 0.7093\n",
            "Epoch 24/600\n",
            "1563/1563 [==============================] - 13s 8ms/step - loss: 0.4823 - accuracy: 0.8281 - val_loss: 0.8540 - val_accuracy: 0.7199\n",
            "Epoch 25/600\n",
            "1563/1563 [==============================] - 12s 8ms/step - loss: 0.4571 - accuracy: 0.8373 - val_loss: 0.8972 - val_accuracy: 0.7171\n",
            "Epoch 26/600\n",
            "1563/1563 [==============================] - 12s 8ms/step - loss: 0.4300 - accuracy: 0.8457 - val_loss: 0.8860 - val_accuracy: 0.7213\n",
            "Epoch 27/600\n",
            "1563/1563 [==============================] - 12s 8ms/step - loss: 0.4106 - accuracy: 0.8513 - val_loss: 0.8984 - val_accuracy: 0.7257\n",
            "Epoch 28/600\n",
            "1563/1563 [==============================] - 12s 8ms/step - loss: 0.3905 - accuracy: 0.8595 - val_loss: 0.9313 - val_accuracy: 0.7209\n",
            "Epoch 29/600\n",
            "1563/1563 [==============================] - 12s 8ms/step - loss: 0.3774 - accuracy: 0.8649 - val_loss: 0.9420 - val_accuracy: 0.7293\n",
            "Epoch 30/600\n",
            "1563/1563 [==============================] - 12s 8ms/step - loss: 0.3573 - accuracy: 0.8716 - val_loss: 0.9370 - val_accuracy: 0.7218\n",
            "Epoch 31/600\n",
            "1563/1563 [==============================] - 12s 8ms/step - loss: 0.3373 - accuracy: 0.8765 - val_loss: 0.9854 - val_accuracy: 0.7182\n",
            "Epoch 32/600\n",
            "1563/1563 [==============================] - 12s 8ms/step - loss: 0.3190 - accuracy: 0.8838 - val_loss: 0.9740 - val_accuracy: 0.7242\n"
          ],
          "name": "stdout"
        }
      ]
    },
    {
      "cell_type": "code",
      "metadata": {
        "id": "Sld4vditQfb4",
        "colab_type": "code",
        "colab": {
          "base_uri": "https://localhost:8080/",
          "height": 34
        },
        "outputId": "c7534752-d074-438a-8b85-22f08057a5ed"
      },
      "source": [
        "test_loss, test_acc = model.evaluate(X_test_norm,  y_test, verbose=2)"
      ],
      "execution_count": null,
      "outputs": [
        {
          "output_type": "stream",
          "text": [
            "313/313 - 1s - loss: 0.9740 - accuracy: 0.7242\n"
          ],
          "name": "stdout"
        }
      ]
    },
    {
      "cell_type": "code",
      "metadata": {
        "id": "AMueO0Gxldso",
        "colab_type": "code",
        "colab": {
          "base_uri": "https://localhost:8080/",
          "height": 279
        },
        "outputId": "7b886794-a84d-4bed-e43f-7f1342aab7ad"
      },
      "source": [
        "plt.plot(hist.history['accuracy'], label='accuracy')\n",
        "plt.plot(hist.history['val_accuracy'], label = 'val_accuracy')\n",
        "plt.xlabel('Epoch')\n",
        "plt.ylabel('Accuracy')\n",
        "plt.legend()\n",
        "plt.show()"
      ],
      "execution_count": null,
      "outputs": [
        {
          "output_type": "display_data",
          "data": {
            "image/png": "[encoded data removed]",
            "text/plain": [
              "<Figure size 432x288 with 1 Axes>"
            ]
          },
          "metadata": {
            "tags": [],
            "needs_background": "light"
          }
        }
      ]
    },
    {
      "cell_type": "code",
      "metadata": {
        "id": "WKxuhnAHQfUx",
        "colab_type": "code",
        "colab": {
          "base_uri": "https://localhost:8080/",
          "height": 238
        },
        "outputId": "f356f452-9b18-443d-b51c-9ff4c493d309"
      },
      "source": [
        "predictions = model.predict(X_test_norm)\n",
        "predictions"
      ],
      "execution_count": null,
      "outputs": [
        {
          "output_type": "execute_result",
          "data": {
            "text/plain": [
              "array([[6.7385486e-07, 1.1224833e-05, 1.9333385e-07, ..., 3.8181951e-09,\n",
              "        3.3783817e-04, 1.8330782e-06],\n",
              "       [6.9675315e-03, 7.2028994e-04, 1.0376690e-08, ..., 5.4364331e-13,\n",
              "        9.9230051e-01, 1.1650588e-05],\n",
              "       [2.2181408e-02, 3.1073535e-02, 8.4238558e-04, ..., 3.4363297e-06,\n",
              "        9.2956144e-01, 1.6178893e-02],\n",
              "       ...,\n",
              "       [7.5677326e-07, 6.8427988e-09, 6.9465092e-04, ..., 1.7134823e-03,\n",
              "        1.4049720e-09, 1.1245047e-08],\n",
              "       [4.0777834e-04, 9.9917054e-01, 5.5317412e-07, ..., 2.0176472e-05,\n",
              "        2.1020837e-08, 2.2925711e-05],\n",
              "       [2.9700114e-11, 5.5140484e-13, 3.4810334e-08, ..., 9.2680526e-01,\n",
              "        2.2215067e-14, 1.3570207e-12]], dtype=float32)"
            ]
          },
          "metadata": {
            "tags": []
          },
          "execution_count": 19
        }
      ]
    },
    {
      "cell_type": "code",
      "metadata": {
        "id": "dOfrCVmYQu6U",
        "colab_type": "code",
        "colab": {}
      },
      "source": [
        "predictions_ = []\n",
        "for i in range(len(predictions)):\n",
        "  predictions_.append(np.argmax(predictions[i]))"
      ],
      "execution_count": null,
      "outputs": []
    },
    {
      "cell_type": "code",
      "metadata": {
        "id": "Al9Wfz7FQu2R",
        "colab_type": "code",
        "colab": {
          "base_uri": "https://localhost:8080/",
          "height": 204
        },
        "outputId": "a5ebbe15-ad42-4548-95ff-a115b5057455"
      },
      "source": [
        "mat = tf.math.confusion_matrix(y_test, predictions_)\n",
        "mat"
      ],
      "execution_count": null,
      "outputs": [
        {
          "output_type": "execute_result",
          "data": {
            "text/plain": [
              "<tf.Tensor: shape=(10, 10), dtype=int32, numpy=\n",
              "array([[777,  15,  41,  17,  23,   1,  13,   6,  69,  38],\n",
              "       [ 19, 823,   4,   7,   5,   7,  11,   3,  33,  88],\n",
              "       [ 62,   5, 557,  74, 108,  59,  69,  35,  21,  10],\n",
              "       [ 28,   7,  57, 559,  61, 151,  56,  36,  30,  15],\n",
              "       [ 22,   5,  53,  50, 701,  39,  36,  68,  20,   6],\n",
              "       [ 10,   3,  43, 199,  44, 614,  20,  46,  16,   5],\n",
              "       [ 12,   1,  37,  75,  41,  20, 787,   3,  14,  10],\n",
              "       [ 17,   4,  25,  38,  78,  59,   7, 751,   6,  15],\n",
              "       [ 56,  15,  10,  11,   5,   6,   4,   4, 863,  26],\n",
              "       [ 35,  72,   8,  18,   5,   5,   6,  12,  29, 810]], dtype=int32)>"
            ]
          },
          "metadata": {
            "tags": []
          },
          "execution_count": 21
        }
      ]
    },
    {
      "cell_type": "code",
      "metadata": {
        "id": "LCFvzSoSQuzB",
        "colab_type": "code",
        "colab": {
          "base_uri": "https://localhost:8080/",
          "height": 296
        },
        "outputId": "25b7177f-c391-4a83-dde7-ea14b46be83c"
      },
      "source": [
        "sns.heatmap(mat, square=True, annot=True, fmt='d', cbar=False)\n",
        "plt.xlabel('true label')\n",
        "plt.ylabel('predicted label')"
      ],
      "execution_count": null,
      "outputs": [
        {
          "output_type": "execute_result",
          "data": {
            "text/plain": [
              "Text(91.68, 0.5, 'predicted label')"
            ]
          },
          "metadata": {
            "tags": []
          },
          "execution_count": 22
        },
        {
          "output_type": "display_data",
          "data": {
            "image/png": "[encoded data removed]",
            "text/plain": [
              "<Figure size 432x288 with 1 Axes>"
            ]
          },
          "metadata": {
            "tags": [],
            "needs_background": "light"
          }
        }
      ]
    },
    {
      "cell_type": "code",
      "metadata": {
        "id": "iuU3qjgZenzq",
        "colab_type": "code",
        "colab": {}
      },
      "source": [
        ""
      ],
      "execution_count": null,
      "outputs": []
    }
  ]
}